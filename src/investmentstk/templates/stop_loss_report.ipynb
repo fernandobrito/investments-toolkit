{
 "cells": [
  {
   "cell_type": "markdown",
   "metadata": {},
   "source": [
    "# Calculate a trailing stop loss using the ATR indicator"
   ]
  },
  {
   "cell_type": "markdown",
   "metadata": {},
   "source": [
    "## Imports"
   ]
  },
  {
   "cell_type": "code",
   "execution_count": null,
   "metadata": {
    "pycharm": {
     "name": "#%%\n"
    }
   },
   "outputs": [],
   "source": [
    "# %load_ext dotenv\n",
    "# %dotenv ../.env\n",
    "\n",
    "# %load_ext autoreload\n",
    "# %autoreload 2\n"
   ]
  },
  {
   "cell_type": "code",
   "execution_count": null,
   "metadata": {},
   "outputs": [],
   "source": [
    "import logging\n",
    "\n",
    "from IPython.display import display, Markdown, HTML\n",
    "\n",
    "from investmentstk.figures import candlestick\n",
    "from investmentstk.figures.common import show_figure\n",
    "from investmentstk.formulas.average_true_range import atr_stop_loss_from_asset\n",
    "from investmentstk.models.asset import Asset\n",
    "from investmentstk.strategy.brito_trend_following import PERIODICITY_PER_BROKER\n",
    "from investmentstk.utils.calendar import is_last_bar_closed"
   ]
  },
  {
   "cell_type": "markdown",
   "metadata": {},
   "source": [
    "## Input"
   ]
  },
  {
   "cell_type": "code",
   "execution_count": null,
   "metadata": {
    "pycharm": {
     "name": "#%%\n"
    },
    "tags": [
     "parameters"
    ]
   },
   "outputs": [],
   "source": [
    "assets = \"AV:5442,AV:5537,CMC:X-ABDOR,CMC:X-AAOTG\".split(\",\")\n",
    "show_all = False"
   ]
  },
  {
   "cell_type": "code",
   "execution_count": null,
   "metadata": {
    "pycharm": {
     "name": "#%%\n"
    }
   },
   "outputs": [],
   "source": [
    "display(HTML('<style>div.output_area .rendered_html table.dataframe { margin: auto; }</style>'))\n",
    "\n",
    "logging.getLogger(\"investmentstk\").setLevel(logging.CRITICAL)\n",
    "\n",
    "# Set this to True when running locally to get interactive charts\n",
    "# When publishing the notebook on GitHub, we need static images\n",
    "IS_INTERACTIVE = True\n",
    "\n",
    "for asset in assets:\n",
    "    asset = Asset.from_id(asset)\n",
    "    \n",
    "    # Hide asset if it's not time to update it's stop loss\n",
    "    if not show_all:\n",
    "        resolution = PERIODICITY_PER_BROKER[asset.source]\n",
    "        if not is_last_bar_closed(resolution):\n",
    "            continue\n",
    "\n",
    "    display(Markdown(f'# {asset.name}'))\n",
    "\n",
    "    dataframe = atr_stop_loss_from_asset(asset)\n",
    "    dataframe = dataframe[-100:]\n",
    "\n",
    "    figure = candlestick.generate_figure(dataframe, asset)\n",
    "    figure.update_layout(width=950, height=600)\n",
    "    show_figure(figure, interactive=IS_INTERACTIVE)\n",
    "\n",
    "    dataframe['stop_change'] = dataframe['stop'] - dataframe['stop'].shift(1)\n",
    "    dataframe['stop_change_pct'] = dataframe['stop_change'] / dataframe['close'] * 100\n",
    "    dataframe.loc[dataframe['stop_change'] > 0, 'stop_change_direction'] = '↗️️'\n",
    "    dataframe.loc[dataframe['stop_change'] < 0, 'stop_change_direction'] = '↘️️'\n",
    "    dataframe.loc[dataframe['stop_change'] == 0, 'stop_change_direction'] = '=️️'\n",
    "    \n",
    "    dataframe = dataframe.round({'atr': 3, 'stop_distance': 2, 'stop_change': 2, 'stop_change_pct': 2})\n",
    "    \n",
    "    dataframe['stop_change'] = dataframe['stop_change'].astype(str)\n",
    "    dataframe['stop_change'].replace(['0', '0.0'], '', inplace=True)\n",
    "    \n",
    "    dataframe['stop_change_pct'] = dataframe['stop_change_pct'].astype(str)\n",
    "    dataframe['stop_change_pct'].replace(['0', '0.0'], '', inplace=True)\n",
    "\n",
    "    display(dataframe.drop(['open', 'high', 'low'], axis=1).tail())"
   ]
  }
 ],
 "metadata": {
  "celltoolbar": "Tags",
  "kernelspec": {
   "display_name": "Python 3 (ipykernel)",
   "language": "python",
   "name": "python3"
  },
  "language_info": {
   "codemirror_mode": {
    "name": "ipython",
    "version": 3
   },
   "file_extension": ".py",
   "mimetype": "text/x-python",
   "name": "python",
   "nbconvert_exporter": "python",
   "pygments_lexer": "ipython3",
   "version": "3.9.0"
  }
 },
 "nbformat": 4,
 "nbformat_minor": 1
}
